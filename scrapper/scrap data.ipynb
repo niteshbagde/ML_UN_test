{
 "cells": [
  {
   "cell_type": "code",
   "execution_count": 26,
   "metadata": {},
   "outputs": [],
   "source": [
    "#import library\n",
    "from selenium import webdriver\n",
    "from selenium.webdriver.common.by import By\n",
    "import csv, json\n",
    "\n",
    "import os\n",
    "import pandas as pd\n",
    "import numpy as np\n"
   ]
  },
  {
   "cell_type": "code",
   "execution_count": 27,
   "metadata": {},
   "outputs": [],
   "source": [
    "# Path to your webdriver\n",
    "webdriver_path = r'D:\\ineuron\\Accenture Task\\scrapper\\chromedriver.exe'\n",
    "driver = webdriver.Chrome(executable_path=webdriver_path)\n",
    "url_dd = \"https://solutions.arcgis.com/gas/help/gas-utility-network-configuration/DataDictionary/DataDictionary/\"\n",
    "driver.get(url_dd)"
   ]
  },
  {
   "cell_type": "code",
   "execution_count": 28,
   "metadata": {},
   "outputs": [
    {
     "data": {
      "text/plain": [
       "'Contents\\nIntroduction\\nPipelineAssembly\\nCompressor Station\\nFitting Assembly\\nMeter Setting\\nPigging Structure\\nPump Station\\nRegulator Station\\nRural Tap\\nTown Border Station\\nUnknown\\nWellhead\\nPipelineDevice\\nAnode\\nCompressor\\nControllable Tee\\nControllable Valve\\nExcess Flow Valve\\nFlow Valve\\nLamp\\nMeter\\nPressure Monitoring Device\\nPump\\nRectifier\\nRegulator\\nRelief Valve\\nScrubber\\nShort Stop\\nStrainer\\nTest Point\\nUnknown\\nWellhead Source Flange\\nPipelineJunction\\nBond Junction\\nConnection Point\\nCooling System\\nCoupling\\nCoupon\\nDehydration Equipment\\nDrip\\nElbow\\nElectro Stop\\nEnd Cap\\nExpansion Joint\\nFlange\\nLine Heater\\nOdorizer\\nPlastic Fusion\\nPlug\\nReducer\\nSaddle\\nScrew\\nTank\\nTee\\nTransition\\nUnion\\nUnknown\\nWeld\\nPipelineLine\\nBond Wire\\nCustomer Pipe\\nDistribution Pipe\\nGathering Pipe\\nRectifier Cable\\nRiser Pipe\\nService Pipe\\nStation Pipe\\nTransmission Pipe\\nUnknown\\nStructureBoundary\\nPipeline Processing Facility\\nPipeline Station Structure\\nPipeline Vault Boundary\\nUnknown\\nStructureJunction\\nPipeline Anchor\\nPipeline End Connection\\nPipeline Muffler\\nPipeline Pipe Hanger\\nPipeline Pipe Support\\nPipeline Valve Box\\nPipeline Vault\\nUnknown\\nStructureLine\\nPipeline Casing\\nUnknown\\nAttribute Domains\\nAnnotationStatus\\nAsset Manager\\nAsset Owner\\nBooleanSymbolValue\\nCP ASTM Anode Manufacture Component\\nCP Anode Weight\\nCP Color Code\\nCP Rectifier Cable Gauge\\nCP Rectifier Manufacturer\\nCP Test Point Wire Count\\nGas Regulatory Type\\nGas Valve Condition\\nHorizontalAlignment\\nPipeline ASTM Coupling Manufacture Component\\nPipeline ASTM EFV Manufacture Component\\nPipeline ASTM Elbow Manufacture Component\\nPipeline ASTM End Cap Manufacture Component\\nPipeline ASTM Manufacturer\\nPipeline ASTM Material\\nPipeline ASTM Meter Manufacture Component\\nPipeline ASTM Pipe Manufacture Component\\nPipeline ASTM Reducer Manufacture Component\\nPipeline ASTM Regulator Manufacture Component\\nPipeline ASTM Saddle Manufacture Component\\nPipeline ASTM Strainer Manufacture Component\\nPipeline ASTM Tee Manufacture Component\\nPipeline ASTM Transition Manufacture Component\\nPipeline ASTM Valve Manufacture Component\\nPipeline Casing Diameter\\nPipeline Casing Fill Type\\nPipeline Cooling Method\\nPipeline Device Status\\nPipeline EFV Diameter\\nPipeline Fitting Diameter\\nPipeline Girth Weld Type\\nPipeline Install Method\\nPipeline Length Source\\nPipeline Life Cycle Status\\nPipeline Lining Type\\nPipeline Meter Diameter - Customer\\nPipeline Meter Type\\nPipeline Odorant Type\\nPipeline Over Pressure Protection Type\\nPipeline Pipe Diameter - Customer\\nPipeline Pipe Diameter - Distribution\\nPipeline Pipe Diameter - Gathering\\nPipeline Pipe Diameter - Riser\\nPipeline Pipe Diameter - Services\\nPipeline Pipe Diameter - Station\\nPipeline Pipe Diameter - Transmission\\nPipeline Pipe Outside Diameter\\nPipeline Pipe Outside Diameter - Riser\\nPipeline Pipe Outside Diameter - Station\\nPipeline Pipe Outside Diameter - Transmission\\nPipeline Pipe Wall Thickness\\nPipeline Pipe Wall Thickness - Riser\\nPipeline Pipe Wall Thickness - Station\\nPipeline Pipe Wall Thickness - Transmission\\nPipeline Pipe Wellhead Pressure Rating\\nPipeline Pipeline Operator Number\\nPipeline Pressure Range\\nPipeline Reducer Fitting Size\\nPipeline Regulator Casing Material\\nPipeline Regulatory Type\\nPipeline Seam Orientation\\nPipeline Seam Type\\nPipeline Supplier\\nPipeline Valve Diameter\\nPipeline Valve Position\\nPipeline Valve Type\\nSymbol Rotation\\nVerticalAlignment\\nYes No\\nYes No Not Applicable'"
      ]
     },
     "execution_count": 28,
     "metadata": {},
     "output_type": "execute_result"
    }
   ],
   "source": [
    "\n",
    "content_xpath = \"/html/body/div[1]\"\n",
    "\n",
    "data_string = driver.find_element(By.XPATH, content_xpath).text\n",
    "\n",
    "data_string\n"
   ]
  },
  {
   "cell_type": "code",
   "execution_count": 29,
   "metadata": {},
   "outputs": [
    {
     "data": {
      "text/plain": [
       "['Contents',\n",
       " 'Introduction',\n",
       " 'PipelineAssembly',\n",
       " 'Compressor Station',\n",
       " 'Fitting Assembly',\n",
       " 'Meter Setting',\n",
       " 'Pigging Structure',\n",
       " 'Pump Station',\n",
       " 'Regulator Station',\n",
       " 'Rural Tap',\n",
       " 'Town Border Station',\n",
       " 'Unknown',\n",
       " 'Wellhead',\n",
       " 'PipelineDevice',\n",
       " 'Anode',\n",
       " 'Compressor',\n",
       " 'Controllable Tee',\n",
       " 'Controllable Valve',\n",
       " 'Excess Flow Valve',\n",
       " 'Flow Valve',\n",
       " 'Lamp',\n",
       " 'Meter',\n",
       " 'Pressure Monitoring Device',\n",
       " 'Pump',\n",
       " 'Rectifier',\n",
       " 'Regulator',\n",
       " 'Relief Valve',\n",
       " 'Scrubber',\n",
       " 'Short Stop',\n",
       " 'Strainer',\n",
       " 'Test Point',\n",
       " 'Unknown',\n",
       " 'Wellhead Source Flange',\n",
       " 'PipelineJunction',\n",
       " 'Bond Junction',\n",
       " 'Connection Point',\n",
       " 'Cooling System',\n",
       " 'Coupling',\n",
       " 'Coupon',\n",
       " 'Dehydration Equipment',\n",
       " 'Drip',\n",
       " 'Elbow',\n",
       " 'Electro Stop',\n",
       " 'End Cap',\n",
       " 'Expansion Joint',\n",
       " 'Flange',\n",
       " 'Line Heater',\n",
       " 'Odorizer',\n",
       " 'Plastic Fusion',\n",
       " 'Plug',\n",
       " 'Reducer',\n",
       " 'Saddle',\n",
       " 'Screw',\n",
       " 'Tank',\n",
       " 'Tee',\n",
       " 'Transition',\n",
       " 'Union',\n",
       " 'Unknown',\n",
       " 'Weld',\n",
       " 'PipelineLine',\n",
       " 'Bond Wire',\n",
       " 'Customer Pipe',\n",
       " 'Distribution Pipe',\n",
       " 'Gathering Pipe',\n",
       " 'Rectifier Cable',\n",
       " 'Riser Pipe',\n",
       " 'Service Pipe',\n",
       " 'Station Pipe',\n",
       " 'Transmission Pipe',\n",
       " 'Unknown',\n",
       " 'StructureBoundary',\n",
       " 'Pipeline Processing Facility',\n",
       " 'Pipeline Station Structure',\n",
       " 'Pipeline Vault Boundary',\n",
       " 'Unknown',\n",
       " 'StructureJunction',\n",
       " 'Pipeline Anchor',\n",
       " 'Pipeline End Connection',\n",
       " 'Pipeline Muffler',\n",
       " 'Pipeline Pipe Hanger',\n",
       " 'Pipeline Pipe Support',\n",
       " 'Pipeline Valve Box',\n",
       " 'Pipeline Vault',\n",
       " 'Unknown',\n",
       " 'StructureLine',\n",
       " 'Pipeline Casing',\n",
       " 'Unknown',\n",
       " 'Attribute Domains',\n",
       " 'AnnotationStatus',\n",
       " 'Asset Manager',\n",
       " 'Asset Owner',\n",
       " 'BooleanSymbolValue',\n",
       " 'CP ASTM Anode Manufacture Component',\n",
       " 'CP Anode Weight',\n",
       " 'CP Color Code',\n",
       " 'CP Rectifier Cable Gauge',\n",
       " 'CP Rectifier Manufacturer',\n",
       " 'CP Test Point Wire Count',\n",
       " 'Gas Regulatory Type',\n",
       " 'Gas Valve Condition',\n",
       " 'HorizontalAlignment',\n",
       " 'Pipeline ASTM Coupling Manufacture Component',\n",
       " 'Pipeline ASTM EFV Manufacture Component',\n",
       " 'Pipeline ASTM Elbow Manufacture Component',\n",
       " 'Pipeline ASTM End Cap Manufacture Component',\n",
       " 'Pipeline ASTM Manufacturer',\n",
       " 'Pipeline ASTM Material',\n",
       " 'Pipeline ASTM Meter Manufacture Component',\n",
       " 'Pipeline ASTM Pipe Manufacture Component',\n",
       " 'Pipeline ASTM Reducer Manufacture Component',\n",
       " 'Pipeline ASTM Regulator Manufacture Component',\n",
       " 'Pipeline ASTM Saddle Manufacture Component',\n",
       " 'Pipeline ASTM Strainer Manufacture Component',\n",
       " 'Pipeline ASTM Tee Manufacture Component',\n",
       " 'Pipeline ASTM Transition Manufacture Component',\n",
       " 'Pipeline ASTM Valve Manufacture Component',\n",
       " 'Pipeline Casing Diameter',\n",
       " 'Pipeline Casing Fill Type',\n",
       " 'Pipeline Cooling Method',\n",
       " 'Pipeline Device Status',\n",
       " 'Pipeline EFV Diameter',\n",
       " 'Pipeline Fitting Diameter',\n",
       " 'Pipeline Girth Weld Type',\n",
       " 'Pipeline Install Method',\n",
       " 'Pipeline Length Source',\n",
       " 'Pipeline Life Cycle Status',\n",
       " 'Pipeline Lining Type',\n",
       " 'Pipeline Meter Diameter - Customer',\n",
       " 'Pipeline Meter Type',\n",
       " 'Pipeline Odorant Type',\n",
       " 'Pipeline Over Pressure Protection Type',\n",
       " 'Pipeline Pipe Diameter - Customer',\n",
       " 'Pipeline Pipe Diameter - Distribution',\n",
       " 'Pipeline Pipe Diameter - Gathering',\n",
       " 'Pipeline Pipe Diameter - Riser',\n",
       " 'Pipeline Pipe Diameter - Services',\n",
       " 'Pipeline Pipe Diameter - Station',\n",
       " 'Pipeline Pipe Diameter - Transmission',\n",
       " 'Pipeline Pipe Outside Diameter',\n",
       " 'Pipeline Pipe Outside Diameter - Riser',\n",
       " 'Pipeline Pipe Outside Diameter - Station',\n",
       " 'Pipeline Pipe Outside Diameter - Transmission',\n",
       " 'Pipeline Pipe Wall Thickness',\n",
       " 'Pipeline Pipe Wall Thickness - Riser',\n",
       " 'Pipeline Pipe Wall Thickness - Station',\n",
       " 'Pipeline Pipe Wall Thickness - Transmission',\n",
       " 'Pipeline Pipe Wellhead Pressure Rating',\n",
       " 'Pipeline Pipeline Operator Number',\n",
       " 'Pipeline Pressure Range',\n",
       " 'Pipeline Reducer Fitting Size',\n",
       " 'Pipeline Regulator Casing Material',\n",
       " 'Pipeline Regulatory Type',\n",
       " 'Pipeline Seam Orientation',\n",
       " 'Pipeline Seam Type',\n",
       " 'Pipeline Supplier',\n",
       " 'Pipeline Valve Diameter',\n",
       " 'Pipeline Valve Position',\n",
       " 'Pipeline Valve Type',\n",
       " 'Symbol Rotation',\n",
       " 'VerticalAlignment',\n",
       " 'Yes No',\n",
       " 'Yes No Not Applicable']"
      ]
     },
     "execution_count": 29,
     "metadata": {},
     "output_type": "execute_result"
    }
   ],
   "source": [
    "data_string.split(\"\\n\")"
   ]
  },
  {
   "cell_type": "code",
   "execution_count": 30,
   "metadata": {},
   "outputs": [],
   "source": [
    "df = pd.DataFrame(data=data_string.split(\"\\n\"))"
   ]
  },
  {
   "cell_type": "code",
   "execution_count": 31,
   "metadata": {},
   "outputs": [
    {
     "data": {
      "text/html": [
       "<div>\n",
       "<style scoped>\n",
       "    .dataframe tbody tr th:only-of-type {\n",
       "        vertical-align: middle;\n",
       "    }\n",
       "\n",
       "    .dataframe tbody tr th {\n",
       "        vertical-align: top;\n",
       "    }\n",
       "\n",
       "    .dataframe thead th {\n",
       "        text-align: right;\n",
       "    }\n",
       "</style>\n",
       "<table border=\"1\" class=\"dataframe\">\n",
       "  <thead>\n",
       "    <tr style=\"text-align: right;\">\n",
       "      <th></th>\n",
       "      <th>0</th>\n",
       "    </tr>\n",
       "  </thead>\n",
       "  <tbody>\n",
       "    <tr>\n",
       "      <th>0</th>\n",
       "      <td>Contents</td>\n",
       "    </tr>\n",
       "    <tr>\n",
       "      <th>1</th>\n",
       "      <td>Introduction</td>\n",
       "    </tr>\n",
       "    <tr>\n",
       "      <th>2</th>\n",
       "      <td>PipelineAssembly</td>\n",
       "    </tr>\n",
       "    <tr>\n",
       "      <th>3</th>\n",
       "      <td>Compressor Station</td>\n",
       "    </tr>\n",
       "    <tr>\n",
       "      <th>4</th>\n",
       "      <td>Fitting Assembly</td>\n",
       "    </tr>\n",
       "  </tbody>\n",
       "</table>\n",
       "</div>"
      ],
      "text/plain": [
       "                    0\n",
       "0            Contents\n",
       "1        Introduction\n",
       "2    PipelineAssembly\n",
       "3  Compressor Station\n",
       "4    Fitting Assembly"
      ]
     },
     "execution_count": 31,
     "metadata": {},
     "output_type": "execute_result"
    }
   ],
   "source": [
    "df.head()"
   ]
  },
  {
   "cell_type": "code",
   "execution_count": 32,
   "metadata": {},
   "outputs": [],
   "source": [
    "df.to_csv(\"gas_data_dict.csv\")"
   ]
  },
  {
   "cell_type": "code",
   "execution_count": 33,
   "metadata": {},
   "outputs": [],
   "source": [
    "driver.close()"
   ]
  },
  {
   "cell_type": "code",
   "execution_count": 34,
   "metadata": {},
   "outputs": [],
   "source": [
    "\n",
    "\n",
    "# Close the webdriver\n",
    "driver.quit()"
   ]
  }
 ],
 "metadata": {
  "kernelspec": {
   "display_name": "base",
   "language": "python",
   "name": "python3"
  },
  "language_info": {
   "codemirror_mode": {
    "name": "ipython",
    "version": 3
   },
   "file_extension": ".py",
   "mimetype": "text/x-python",
   "name": "python",
   "nbconvert_exporter": "python",
   "pygments_lexer": "ipython3",
   "version": "3.6.13"
  }
 },
 "nbformat": 4,
 "nbformat_minor": 2
}
